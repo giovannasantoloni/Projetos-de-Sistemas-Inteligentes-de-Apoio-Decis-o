{
  "cells": [
    {
      "cell_type": "markdown",
      "metadata": {
        "id": "view-in-github",
        "colab_type": "text"
      },
      "source": [
        "<a href=\"https://colab.research.google.com/github/giovannasantoloni/Projetos-de-Sistemas-Inteligentes-de-Apoio-Decis-o/blob/main/Projeto_Final_Curso_BI_Master_2021_1_Giovanna_Dohnert.ipynb\" target=\"_parent\"><img src=\"https://colab.research.google.com/assets/colab-badge.svg\" alt=\"Open In Colab\"/></a>"
      ]
    },
    {
      "cell_type": "markdown",
      "metadata": {
        "id": "_A-0xp8cx2Av"
      },
      "source": [
        "# Projeto Final Curso BI Master 2021-1\n",
        "> Por Giovanna Santoloni Dohnert"
      ]
    },
    {
      "cell_type": "code",
      "execution_count": 1,
      "metadata": {
        "colab": {
          "base_uri": "https://localhost:8080/"
        },
        "id": "UEqYs6BQzQo-",
        "outputId": "ba57b38c-12ff-4987-ad13-f0fcd2461d62"
      },
      "outputs": [
        {
          "output_type": "stream",
          "name": "stdout",
          "text": [
            "Mounted at /content/drive\n"
          ]
        }
      ],
      "source": [
        "#Montagem do Drive \n",
        "from google.colab import drive\n",
        "drive.mount('/content/drive')"
      ]
    },
    {
      "cell_type": "code",
      "execution_count": 2,
      "metadata": {
        "id": "MbV235WEzt6K"
      },
      "outputs": [],
      "source": [
        "#Importar Bibliotecas\n",
        "import numpy as np\n",
        "import pandas as pd\n",
        "import os\n",
        "import shutil\n",
        "import cv2\n",
        "from glob import glob\n",
        "import pickle\n",
        "import matplotlib.pyplot as plt\n",
        "import tensorflow as tf\n",
        "import tensorflow.keras\n",
        "import random\n",
        "import shutil\n",
        "import zipfile\n"
      ]
    },
    {
      "cell_type": "code",
      "execution_count": 3,
      "metadata": {
        "id": "GBY3Hu2Q0mWY"
      },
      "outputs": [],
      "source": [
        "#Importar Aplicações\n",
        "from tensorflow import keras\n",
        "from tensorflow.keras import layers\n",
        "from tensorflow.keras.models import Sequential\n",
        "from tensorflow.keras.datasets import mnist\n",
        "from tensorflow.keras.applications import VGG16\n",
        "from tensorflow.keras.layers import Dense, Dropout, Input\n",
        "from tensorflow.keras.layers import Flatten\n",
        "from tensorflow.keras.models import Model\n",
        "from tensorflow.keras.optimizers import Adam\n",
        "from tensorflow.keras.preprocessing.image import ImageDataGenerator\n",
        "from pathlib import Path\n",
        "from sklearn.model_selection import train_test_split \n",
        "from sklearn.metrics import confusion_matrix, classification_report\n",
        "from sklearn.metrics import confusion_matrix\n",
        "from sklearn.metrics import roc_auc_score\n",
        "from scipy import ndimage, misc\n",
        "import skimage\n",
        "from keras.applications.inception_v3 import InceptionV3, preprocess_input\n",
        "from keras.models import Sequential\n",
        "from keras.layers.pooling import GlobalAveragePooling2D\n",
        "from keras.models.cloning import training\n",
        "from tensorflow.keras.layers import Dense, Dropout\n",
        "from tensorflow.keras.callbacks import ReduceLROnPlateau\n",
        "from tensorflow.keras.optimizers import RMSprop\n",
        "from sklearn.metrics import classification_report, confusion_matrix\n",
        "from keras.callbacks import LearningRateScheduler\n",
        "from keras.layers import Conv2D, MaxPooling2D, Flatten, Dense\n",
        "from tensorflow.keras.layers import Reshape\n",
        "from google.colab import drive\n",
        "from shutil import copyfile"
      ]
    },
    {
      "cell_type": "code",
      "source": [
        "#Caminho da Base de Dados\n",
        "import os\n",
        "workdir_path = '/content/drive/My Drive/Projeto Final BI/Dataset' \n",
        "os.chdir(workdir_path)"
      ],
      "metadata": {
        "id": "GPAbjqZepw23"
      },
      "execution_count": 4,
      "outputs": []
    },
    {
      "cell_type": "code",
      "source": [
        "# Caminho do dataset\n",
        "full_dataset = r'/content/drive/My Drive/Projeto Final BI/Dataset'"
      ],
      "metadata": {
        "id": "vXuRrhp7mcWp"
      },
      "execution_count": 5,
      "outputs": []
    },
    {
      "cell_type": "code",
      "execution_count": 6,
      "metadata": {
        "id": "TKjcN-4v0xDc"
      },
      "outputs": [],
      "source": [
        "#Definição de Parâmetros\n",
        "\n",
        "#Número de Classes \n",
        "n_classes = 10\n",
        "\n",
        "#Tamanho das Imagens\n",
        "target_size = (225, 225)\n",
        "\n",
        "#Tamanho do Lote para Treinamento\n",
        "batch_size = 32\n"
      ]
    },
    {
      "cell_type": "code",
      "execution_count": 7,
      "metadata": {
        "colab": {
          "base_uri": "https://localhost:8080/"
        },
        "id": "JDpVG6QWaOuY",
        "outputId": "5e3212c6-e6b1-4f1a-b04f-506a54ff684b"
      },
      "outputs": [
        {
          "output_type": "stream",
          "name": "stdout",
          "text": [
            "Pasta: Abyssinian  - Número de arquivos: 187\n",
            "Pasta: Bengal  - Número de arquivos: 191\n",
            "Pasta: Birman  - Número de arquivos: 186\n",
            "Pasta: Bombay  - Número de arquivos: 179\n",
            "Pasta: British Short Hair  - Número de arquivos: 165\n",
            "Pasta: Egyptian Mau  - Número de arquivos: 176\n",
            "Pasta: Maine Coon  - Número de arquivos: 158\n",
            "Pasta: Persian  - Número de arquivos: 163\n",
            "Pasta: Ragdoll  - Número de arquivos: 177\n",
            "Pasta: Siamese  - Número de arquivos: 173\n"
          ]
        }
      ],
      "source": [
        "# Olhando o número de arquivos por classe\n",
        "for nome_pasta in os.listdir(full_dataset):\n",
        "    caminho_pasta = os.path.join(full_dataset, nome_pasta)\n",
        "  \n",
        "    if os.path.isdir(caminho_pasta):\n",
        "        \n",
        "        lista_arquivos = os.listdir(caminho_pasta)  \n",
        "\n",
        "        num_arquivos = len(lista_arquivos)     \n",
        "\n",
        "        print(\"Pasta:\", nome_pasta, \" - Número de arquivos:\", num_arquivos)"
      ]
    },
    {
      "cell_type": "code",
      "source": [
        "# Criando as listas para armazenar os dados\n",
        "classes = []\n",
        "num_arquivos = []\n",
        "\n",
        "# Olhando o número de arquivos por classe\n",
        "for nome_pasta in os.listdir(full_dataset):\n",
        "    caminho_pasta = os.path.join(full_dataset, nome_pasta)\n",
        "  \n",
        "    if os.path.isdir(caminho_pasta):\n",
        "        \n",
        "        lista_arquivos = os.listdir(caminho_pasta)  \n",
        "\n",
        "        num_arq = len(lista_arquivos)\n",
        "        \n",
        "        classes.append(nome_pasta)\n",
        "        num_arquivos.append(num_arq)\n",
        "\n",
        "# Gerando o gráfico de barras\n",
        "plt.bar(classes, num_arquivos)\n",
        "plt.title(\"Número de arquivos por classe\")\n",
        "plt.xlabel(\"Classe\")\n",
        "plt.ylabel(\"Número de arquivos\")\n",
        "plt.subplots_adjust(bottom=0.25)\n",
        "plt.bar(classes, num_arquivos, width=0.8)\n",
        "plt.xticks(rotation=45, ha=\"right\")\n",
        "plt.show()"
      ],
      "metadata": {
        "id": "sa0HTSxpQB6N",
        "colab": {
          "base_uri": "https://localhost:8080/",
          "height": 485
        },
        "outputId": "ba463d28-f008-4efd-a5e6-7854f2cdae4c"
      },
      "execution_count": 8,
      "outputs": [
        {
          "output_type": "display_data",
          "data": {
            "text/plain": [
              "<Figure size 640x480 with 1 Axes>"
            ],
            "image/png": "[encoded data removed]"
          },
          "metadata": {}
        }
      ]
    },
    {
      "cell_type": "code",
      "source": [
        "# Criando o gerador de imagens com as transformações desejadas\n",
        "image_generator = keras.preprocessing.image.ImageDataGenerator(\n",
        "    rescale=1./255,\n",
        "    validation_split=0.2, \n",
        "    rotation_range=20, \n",
        "    width_shift_range=0.2,\n",
        "    height_shift_range=0.2,\n",
        "    zoom_range=0.2,\n",
        "    horizontal_flip=True,\n",
        "    brightness_range=[0.5, 1.5],\n",
        "    shear_range=0.2,\n",
        "    fill_mode='reflect',\n",
        "    channel_shift_range=50.0,\n",
        "    vertical_flip=True,\n",
        ")"
      ],
      "metadata": {
        "id": "hrfYrhy3Dil4"
      },
      "execution_count": 9,
      "outputs": []
    },
    {
      "cell_type": "code",
      "source": [
        "# Criando o dataset de Treino\n",
        "train_dataset = image_generator.flow_from_directory(batch_size=batch_size, \n",
        "                                                    directory=full_dataset ,\n",
        "                                                    shuffle=True,\n",
        "                                                    target_size=target_size,\n",
        "                                                    subset=\"training\",\n",
        "                                                    class_mode='categorical')\n",
        "\n",
        "# Criando o dataset de Validação\n",
        "validation_dataset = image_generator.flow_from_directory(batch_size=batch_size, \n",
        "                                                         directory=full_dataset,\n",
        "                                                         shuffle=True,\n",
        "                                                         target_size=target_size,\n",
        "                                                         subset=\"validation\",\n",
        "                                                         class_mode='categorical')\n",
        "\n",
        "# Criando o conjunto de Teste com mesmo tamanho do conjunto de Validação\n",
        "test_dataset = image_generator.flow_from_directory(batch_size=batch_size, \n",
        "                                                    directory=full_dataset,\n",
        "                                                    shuffle = True,\n",
        "                                                    target_size =target_size,\n",
        "                                                    class_mode = 'categorical',\n",
        "                                                    subset = 'validation')"
      ],
      "metadata": {
        "colab": {
          "base_uri": "https://localhost:8080/"
        },
        "id": "dHxszJcWDkpQ",
        "outputId": "77697186-3611-4698-b366-7ed0e401c55f"
      },
      "execution_count": 10,
      "outputs": [
        {
          "output_type": "stream",
          "name": "stdout",
          "text": [
            "Found 1406 images belonging to 10 classes.\n",
            "Found 346 images belonging to 10 classes.\n",
            "Found 346 images belonging to 10 classes.\n"
          ]
        }
      ]
    },
    {
      "cell_type": "code",
      "execution_count": 11,
      "metadata": {
        "id": "LVFbpA5bh40S",
        "colab": {
          "base_uri": "https://localhost:8080/"
        },
        "outputId": "42ef8d36-a94f-454c-8d4f-a77c2f79b337"
      },
      "outputs": [
        {
          "output_type": "stream",
          "name": "stdout",
          "text": [
            "Downloading data from https://storage.googleapis.com/tensorflow/keras-applications/resnet/resnet50v2_weights_tf_dim_ordering_tf_kernels_notop.h5\n",
            "94668760/94668760 [==============================] - 3s 0us/step\n"
          ]
        }
      ],
      "source": [
        "# Importar a arquitetura ResNet50V2\n",
        "from tensorflow.keras.applications.resnet_v2 import ResNet50V2\n",
        "\n",
        "# carregar a arquitetura ResNet50V2 pré-treinada\n",
        "base_model = ResNet50V2(weights='imagenet', include_top=False, input_shape=(*target_size, 3))"
      ]
    },
    {
      "cell_type": "code",
      "execution_count": 12,
      "metadata": {
        "id": "CPdjhWFQjzfP"
      },
      "outputs": [],
      "source": [
        "# adicionar camadas adicionais ao modelo\n",
        "x = base_model.output\n",
        "x = Flatten()(x)\n",
        "x = Dense(256, activation='relu')(x) \n",
        "\n",
        "# Adicionamos uma camada de dropout de 0,5, o que significa que metade dos neurônios da camada anterior serão aleatoriamente desativados\n",
        "# durante o treinamento, para evitar overfitting.\n",
        "\n",
        "x = Dropout(0.5)(x)  \n",
        "\n",
        "predictions = Dense(n_classes, activation='softmax')(x)"
      ]
    },
    {
      "cell_type": "code",
      "execution_count": 13,
      "metadata": {
        "id": "sPuuTzGllGqT"
      },
      "outputs": [],
      "source": [
        "# criar modelo final\n",
        "model = Model(inputs=base_model.input, outputs=predictions)\n",
        "\n",
        "# congelar as camadas da base\n",
        "for layer in base_model.layers:\n",
        "    layer.trainable = False"
      ]
    },
    {
      "cell_type": "code",
      "source": [
        "# Learning Rate Fixo\n",
        "lr_fixed = 1e-4\n",
        "\n",
        "# Beta 1\n",
        "beta_1 = 0.9\n",
        "\n",
        "# compilar o modelo com a learning_rate fixa\n",
        "model.compile(optimizer=Adam(learning_rate=lr_fixed, beta_1=beta_1), loss='categorical_crossentropy', metrics=['acc'])"
      ],
      "metadata": {
        "id": "nbGEgR5RYtb1"
      },
      "execution_count": 14,
      "outputs": []
    },
    {
      "cell_type": "code",
      "execution_count": 15,
      "metadata": {
        "colab": {
          "base_uri": "https://localhost:8080/"
        },
        "id": "29wwz44yiWSa",
        "outputId": "6c82d31f-cd11-4e52-a19b-dce9f050f9e0"
      },
      "outputs": [
        {
          "output_type": "stream",
          "name": "stdout",
          "text": [
            "Epoch 1/50\n",
            "32/32 [==============================] - 618s 19s/step - loss: 2.9544 - acc: 0.3728 - val_loss: 0.8984 - val_acc: 0.6908\n",
            "Epoch 2/50\n",
            "32/32 [==============================] - 140s 4s/step - loss: 1.2996 - acc: 0.5881 - val_loss: 0.7040 - val_acc: 0.7630\n",
            "Epoch 3/50\n",
            "32/32 [==============================] - 58s 2s/step - loss: 1.2436 - acc: 0.5998 - val_loss: 0.6105 - val_acc: 0.7832\n",
            "Epoch 4/50\n",
            "32/32 [==============================] - 38s 1s/step - loss: 1.0449 - acc: 0.6670 - val_loss: 0.6765 - val_acc: 0.7688\n",
            "Epoch 5/50\n",
            "32/32 [==============================] - 32s 995ms/step - loss: 0.9866 - acc: 0.6846 - val_loss: 0.6655 - val_acc: 0.7688\n",
            "Epoch 6/50\n",
            "32/32 [==============================] - 30s 936ms/step - loss: 0.9199 - acc: 0.6888 - val_loss: 0.6381 - val_acc: 0.7746\n",
            "Epoch 7/50\n",
            "32/32 [==============================] - 29s 922ms/step - loss: 0.9183 - acc: 0.6859 - val_loss: 0.5403 - val_acc: 0.8064\n",
            "Epoch 8/50\n",
            "32/32 [==============================] - 30s 947ms/step - loss: 0.9138 - acc: 0.7114 - val_loss: 0.5207 - val_acc: 0.8237\n",
            "Epoch 9/50\n",
            "32/32 [==============================] - 33s 1s/step - loss: 0.8217 - acc: 0.7197 - val_loss: 0.5377 - val_acc: 0.8035\n",
            "Epoch 10/50\n",
            "32/32 [==============================] - 30s 935ms/step - loss: 0.7828 - acc: 0.7158 - val_loss: 0.5191 - val_acc: 0.7977\n",
            "Epoch 11/50\n",
            "32/32 [==============================] - 32s 1s/step - loss: 0.8094 - acc: 0.7456 - val_loss: 0.5660 - val_acc: 0.8179\n",
            "Epoch 12/50\n",
            "32/32 [==============================] - 30s 943ms/step - loss: 0.7564 - acc: 0.7593 - val_loss: 0.5514 - val_acc: 0.8179\n",
            "Epoch 13/50\n",
            "32/32 [==============================] - 31s 962ms/step - loss: 0.7437 - acc: 0.7515 - val_loss: 0.5351 - val_acc: 0.8179\n",
            "Epoch 14/50\n",
            "32/32 [==============================] - 30s 958ms/step - loss: 0.7448 - acc: 0.7446 - val_loss: 0.5043 - val_acc: 0.8208\n",
            "Epoch 15/50\n",
            "32/32 [==============================] - 32s 1s/step - loss: 0.6690 - acc: 0.7730 - val_loss: 0.5320 - val_acc: 0.8121\n",
            "Epoch 16/50\n",
            "32/32 [==============================] - 30s 945ms/step - loss: 0.6610 - acc: 0.7926 - val_loss: 0.5768 - val_acc: 0.8266\n",
            "Epoch 17/50\n",
            "32/32 [==============================] - 31s 963ms/step - loss: 0.7673 - acc: 0.7387 - val_loss: 0.5050 - val_acc: 0.8064\n",
            "Epoch 18/50\n",
            "32/32 [==============================] - 30s 942ms/step - loss: 0.6964 - acc: 0.7652 - val_loss: 0.6129 - val_acc: 0.8150\n",
            "Epoch 19/50\n",
            "32/32 [==============================] - 30s 952ms/step - loss: 0.7478 - acc: 0.7539 - val_loss: 0.5291 - val_acc: 0.8006\n",
            "Epoch 20/50\n",
            "32/32 [==============================] - 30s 941ms/step - loss: 0.6344 - acc: 0.7798 - val_loss: 0.5269 - val_acc: 0.8121\n",
            "Epoch 21/50\n",
            "32/32 [==============================] - 30s 945ms/step - loss: 0.7028 - acc: 0.7740 - val_loss: 0.5296 - val_acc: 0.8121\n",
            "Epoch 22/50\n",
            "32/32 [==============================] - 30s 954ms/step - loss: 0.6846 - acc: 0.7676 - val_loss: 0.5942 - val_acc: 0.7890\n",
            "Epoch 23/50\n",
            "32/32 [==============================] - 34s 1s/step - loss: 0.6895 - acc: 0.7789 - val_loss: 0.5188 - val_acc: 0.8121\n",
            "Epoch 24/50\n",
            "32/32 [==============================] - 30s 951ms/step - loss: 0.7085 - acc: 0.7544 - val_loss: 0.4546 - val_acc: 0.8179\n",
            "Epoch 25/50\n",
            "32/32 [==============================] - 30s 960ms/step - loss: 0.6470 - acc: 0.7828 - val_loss: 0.5197 - val_acc: 0.8150\n",
            "Epoch 26/50\n",
            "32/32 [==============================] - 30s 953ms/step - loss: 0.6866 - acc: 0.7808 - val_loss: 0.5892 - val_acc: 0.8150\n",
            "Epoch 27/50\n",
            "32/32 [==============================] - 30s 949ms/step - loss: 0.6481 - acc: 0.7793 - val_loss: 0.6080 - val_acc: 0.8208\n",
            "Epoch 28/50\n",
            "32/32 [==============================] - 33s 1s/step - loss: 0.6270 - acc: 0.8008 - val_loss: 0.4207 - val_acc: 0.8410\n",
            "Epoch 29/50\n",
            "32/32 [==============================] - 31s 961ms/step - loss: 0.6658 - acc: 0.7710 - val_loss: 0.5110 - val_acc: 0.7948\n",
            "Epoch 30/50\n",
            "32/32 [==============================] - 31s 968ms/step - loss: 0.6279 - acc: 0.7857 - val_loss: 0.6019 - val_acc: 0.8266\n",
            "Epoch 31/50\n",
            "32/32 [==============================] - 30s 956ms/step - loss: 0.6063 - acc: 0.8131 - val_loss: 0.4752 - val_acc: 0.8468\n",
            "Epoch 32/50\n",
            "32/32 [==============================] - 30s 948ms/step - loss: 0.5534 - acc: 0.8135 - val_loss: 0.5814 - val_acc: 0.8035\n",
            "Epoch 33/50\n",
            "32/32 [==============================] - 30s 946ms/step - loss: 0.6375 - acc: 0.7818 - val_loss: 0.5110 - val_acc: 0.8092\n",
            "Epoch 34/50\n",
            "32/32 [==============================] - 30s 953ms/step - loss: 0.5470 - acc: 0.8053 - val_loss: 0.5537 - val_acc: 0.8208\n",
            "Epoch 35/50\n",
            "32/32 [==============================] - 33s 1s/step - loss: 0.5272 - acc: 0.8170 - val_loss: 0.6040 - val_acc: 0.8150\n",
            "Epoch 36/50\n",
            "32/32 [==============================] - 30s 959ms/step - loss: 0.5584 - acc: 0.8057 - val_loss: 0.6077 - val_acc: 0.8208\n",
            "Epoch 37/50\n",
            "32/32 [==============================] - 30s 955ms/step - loss: 0.5537 - acc: 0.8291 - val_loss: 0.5238 - val_acc: 0.8382\n",
            "Epoch 38/50\n",
            "32/32 [==============================] - 31s 963ms/step - loss: 0.6219 - acc: 0.8121 - val_loss: 0.4977 - val_acc: 0.8064\n",
            "Epoch 39/50\n",
            "32/32 [==============================] - 30s 960ms/step - loss: 0.5092 - acc: 0.8337 - val_loss: 0.5580 - val_acc: 0.8092\n",
            "Epoch 40/50\n",
            "32/32 [==============================] - 31s 966ms/step - loss: 0.4847 - acc: 0.8408 - val_loss: 0.5398 - val_acc: 0.8439\n",
            "Epoch 41/50\n",
            "32/32 [==============================] - 30s 950ms/step - loss: 0.5829 - acc: 0.8190 - val_loss: 0.5661 - val_acc: 0.8266\n",
            "Epoch 42/50\n",
            "32/32 [==============================] - 34s 1s/step - loss: 0.6095 - acc: 0.8033 - val_loss: 0.4313 - val_acc: 0.8410\n",
            "Epoch 43/50\n",
            "32/32 [==============================] - 33s 1s/step - loss: 0.5384 - acc: 0.8288 - val_loss: 0.4984 - val_acc: 0.8324\n",
            "Epoch 44/50\n",
            "32/32 [==============================] - 31s 963ms/step - loss: 0.5781 - acc: 0.8072 - val_loss: 0.5201 - val_acc: 0.7977\n",
            "Epoch 45/50\n",
            "32/32 [==============================] - 30s 958ms/step - loss: 0.4795 - acc: 0.8278 - val_loss: 0.3975 - val_acc: 0.8671\n",
            "Epoch 46/50\n",
            "32/32 [==============================] - 30s 951ms/step - loss: 0.5776 - acc: 0.8209 - val_loss: 0.6110 - val_acc: 0.8092\n",
            "Epoch 47/50\n",
            "32/32 [==============================] - 30s 947ms/step - loss: 0.5381 - acc: 0.8170 - val_loss: 0.4833 - val_acc: 0.8555\n",
            "Epoch 48/50\n",
            "32/32 [==============================] - 31s 976ms/step - loss: 0.5038 - acc: 0.8297 - val_loss: 0.4723 - val_acc: 0.8237\n",
            "Epoch 49/50\n",
            "32/32 [==============================] - 30s 943ms/step - loss: 0.4853 - acc: 0.8170 - val_loss: 0.4744 - val_acc: 0.8468\n",
            "Epoch 50/50\n",
            "32/32 [==============================] - 30s 954ms/step - loss: 0.5051 - acc: 0.8327 - val_loss: 0.4555 - val_acc: 0.8410\n"
          ]
        }
      ],
      "source": [
        "# Treinar o Modelo\n",
        "history = model.fit(\n",
        "    train_dataset,\n",
        "    steps_per_epoch=(batch_size),\n",
        "    epochs=50,\n",
        "    validation_data=validation_dataset,\n",
        "    validation_steps=len(validation_dataset))"
      ]
    },
    {
      "cell_type": "code",
      "execution_count": 16,
      "metadata": {
        "id": "E-Fo15aGBMmM",
        "colab": {
          "base_uri": "https://localhost:8080/"
        },
        "outputId": "6a4ef751-621f-43a2-c44c-1f6e13bea880"
      },
      "outputs": [
        {
          "output_type": "stream",
          "name": "stdout",
          "text": [
            "11/11 [==============================] - 7s 604ms/step\n"
          ]
        }
      ],
      "source": [
        "# Avaliando o modelo com conjunto de teste\n",
        "y_pred = model.predict(test_dataset)\n",
        "y_pred = np.argmax(y_pred, axis=1)\n",
        "y_true = test_dataset.classes"
      ]
    },
    {
      "cell_type": "code",
      "execution_count": 17,
      "metadata": {
        "id": "owf7-kem_1T5",
        "colab": {
          "base_uri": "https://localhost:8080/"
        },
        "outputId": "c9131120-d2bf-496f-8255-82d5e86701dd"
      },
      "outputs": [
        {
          "output_type": "stream",
          "name": "stdout",
          "text": [
            "Matriz de Confusão:\n",
            " [[3 5 2 4 2 6 3 3 5 3]\n",
            " [1 5 5 2 2 3 5 4 8 3]\n",
            " [4 3 7 2 7 3 1 2 3 5]\n",
            " [4 5 3 5 0 4 2 5 2 5]\n",
            " [5 7 7 4 1 3 1 0 3 2]\n",
            " [1 2 4 4 6 6 1 2 5 4]\n",
            " [4 2 3 3 5 5 1 1 4 3]\n",
            " [3 5 5 4 2 3 1 5 3 1]\n",
            " [3 5 2 7 1 3 7 3 2 2]\n",
            " [1 5 3 1 3 3 4 6 4 4]]\n"
          ]
        }
      ],
      "source": [
        "# Gerando a Matriz de Confusão\n",
        "conf_matrix = confusion_matrix(y_true, y_pred)\n",
        "print(\"Matriz de Confusão:\\n\", conf_matrix)"
      ]
    },
    {
      "cell_type": "code",
      "source": [
        "# Plotar o gráfico de loss durante o treinamento\n",
        "plt.plot(history.history['loss'])\n",
        "plt.plot(history.history['val_loss'])\n",
        "plt.title('Model loss')\n",
        "plt.ylabel('Loss')\n",
        "plt.xlabel('Epoch')\n",
        "plt.legend(['Train', 'Validation'], loc='upper right')\n",
        "plt.show()"
      ],
      "metadata": {
        "colab": {
          "base_uri": "https://localhost:8080/",
          "height": 472
        },
        "id": "WuWkhtQ8VzYw",
        "outputId": "8c0d86cb-9597-43c6-8dd7-7dd47fa06e91"
      },
      "execution_count": 18,
      "outputs": [
        {
          "output_type": "display_data",
          "data": {
            "text/plain": [
              "<Figure size 640x480 with 1 Axes>"
            ],
            "image/png": "[encoded data removed]"
          },
          "metadata": {}
        }
      ]
    }
  ],
  "metadata": {
    "colab": {
      "provenance": [],
      "machine_shape": "hm",
      "authorship_tag": "ABX9TyN/weTgQ0emumVHcCfkrQdP",
      "include_colab_link": true
    },
    "gpuClass": "premium",
    "kernelspec": {
      "display_name": "Python 3",
      "name": "python3"
    },
    "language_info": {
      "name": "python"
    },
    "accelerator": "GPU"
  },
  "nbformat": 4,
  "nbformat_minor": 0
}