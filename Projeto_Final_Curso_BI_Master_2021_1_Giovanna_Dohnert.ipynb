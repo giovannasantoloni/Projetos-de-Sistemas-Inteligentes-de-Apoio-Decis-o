{
  "cells": [
    {
      "cell_type": "markdown",
      "metadata": {
        "id": "view-in-github",
        "colab_type": "text"
      },
      "source": [
        "<a href=\"https://colab.research.google.com/github/giovannasantoloni/Projetos-de-Sistemas-Inteligentes-de-Apoio-Decis-o/blob/main/Projeto_Final_Curso_BI_Master_2021_1_Giovanna_Dohnert.ipynb\" target=\"_parent\"><img src=\"https://colab.research.google.com/assets/colab-badge.svg\" alt=\"Open In Colab\"/></a>"
      ]
    },
    {
      "cell_type": "markdown",
      "metadata": {
        "id": "_A-0xp8cx2Av"
      },
      "source": [
        "# Projeto Final Curso BI Master 2021-1\n",
        "> Por Giovanna Santoloni Dohnert"
      ]
    },
    {
      "cell_type": "code",
      "execution_count": 1,
      "metadata": {
        "colab": {
          "base_uri": "https://localhost:8080/"
        },
        "id": "UEqYs6BQzQo-",
        "outputId": "19f743ca-6834-4fc2-d33e-25552e1277f7"
      },
      "outputs": [
        {
          "output_type": "stream",
          "name": "stdout",
          "text": [
            "Drive already mounted at /content/drive; to attempt to forcibly remount, call drive.mount(\"/content/drive\", force_remount=True).\n"
          ]
        }
      ],
      "source": [
        "#Montagem do Drive \n",
        "from google.colab import drive\n",
        "drive.mount('/content/drive')\n"
      ]
    },
    {
      "cell_type": "code",
      "execution_count": 2,
      "metadata": {
        "id": "MbV235WEzt6K"
      },
      "outputs": [],
      "source": [
        "#Importar Bibliotecas\n",
        "import numpy as np\n",
        "import pandas as pd\n",
        "import os\n",
        "import shutil\n",
        "import cv2\n",
        "from glob import glob\n",
        "import pickle\n",
        "import matplotlib.pyplot as plt\n",
        "import tensorflow as tf\n",
        "import tensorflow.keras\n",
        "import random\n",
        "import shutil\n"
      ]
    },
    {
      "cell_type": "code",
      "execution_count": 3,
      "metadata": {
        "id": "GBY3Hu2Q0mWY"
      },
      "outputs": [],
      "source": [
        "#Importar Aplicações\n",
        "from tensorflow import keras\n",
        "from tensorflow.keras import layers\n",
        "from tensorflow.keras.models import Sequential\n",
        "from tensorflow.keras.datasets import mnist\n",
        "from tensorflow.keras.applications import VGG16\n",
        "from tensorflow.keras.layers import Dense, Dropout, Input\n",
        "from tensorflow.keras.layers import Flatten\n",
        "from tensorflow.keras.models import Model\n",
        "from tensorflow.keras.optimizers import Adam\n",
        "from tensorflow.keras.preprocessing.image import ImageDataGenerator\n",
        "from pathlib import Path\n",
        "from sklearn.model_selection import train_test_split \n",
        "from sklearn.metrics import confusion_matrix, classification_report\n",
        "from sklearn.metrics import confusion_matrix\n",
        "from sklearn.metrics import roc_auc_score\n",
        "from scipy import ndimage, misc\n",
        "import skimage\n",
        "from keras.applications.inception_v3 import InceptionV3, preprocess_input\n",
        "from keras.models import Sequential\n",
        "from keras.layers.pooling import GlobalAveragePooling2D\n",
        "from keras.models.cloning import training\n",
        "from tensorflow.keras.layers import Dense, Dropout\n",
        "from tensorflow.keras.callbacks import ReduceLROnPlateau\n",
        "from tensorflow.keras.optimizers import RMSprop\n",
        "from sklearn.metrics import classification_report, confusion_matrix\n",
        "from keras.callbacks import LearningRateScheduler\n",
        "from keras.layers import Conv2D, MaxPooling2D, Flatten, Dense\n",
        "from tensorflow.keras.layers import Reshape"
      ]
    },
    {
      "cell_type": "code",
      "execution_count": 4,
      "metadata": {
        "id": "UUpt76Qz8TDh"
      },
      "outputs": [],
      "source": [
        "# Caminho da Base de Dados\n",
        "import os\n",
        "workdir_path = '/content/drive/My Drive/Projeto Final BI/images' \n",
        "os.chdir(workdir_path)\n"
      ]
    },
    {
      "cell_type": "code",
      "execution_count": 5,
      "metadata": {
        "id": "y9D39u210jmC"
      },
      "outputs": [],
      "source": [
        "# Caminho do dataset\n",
        "full_dataset = r'/content/drive/My Drive/Projeto Final BI/images'"
      ]
    },
    {
      "cell_type": "code",
      "execution_count": 6,
      "metadata": {
        "id": "TKjcN-4v0xDc"
      },
      "outputs": [],
      "source": [
        "#Definição de Parâmetros\n",
        "\n",
        "#Número de Classes \n",
        "n_classes = 10\n",
        "\n",
        "#Tamanho das Imagens\n",
        "target_size = (225, 225)\n",
        "\n",
        "#Tamanho do Lote para Treinamento\n",
        "batch_size = 32\n"
      ]
    },
    {
      "cell_type": "code",
      "execution_count": 7,
      "metadata": {
        "colab": {
          "base_uri": "https://localhost:8080/"
        },
        "id": "JDpVG6QWaOuY",
        "outputId": "fb9a8bb3-e17f-4855-c713-3a3a942fb6d1"
      },
      "outputs": [
        {
          "output_type": "stream",
          "name": "stdout",
          "text": [
            "Pasta: Havana  - Número de arquivos: 184\n",
            "Pasta: Munchkin  - Número de arquivos: 181\n",
            "Pasta: Pixiebob  - Número de arquivos: 111\n",
            "Pasta: Sphynx  - Número de arquivos: 209\n",
            "Pasta: Exotic Shorthair  - Número de arquivos: 232\n",
            "Pasta: Cornish Rex  - Número de arquivos: 171\n",
            "Pasta: American Bobtail  - Número de arquivos: 210\n",
            "Pasta: Maine Coon  - Número de arquivos: 267\n",
            "Pasta: British Shorthair  - Número de arquivos: 213\n",
            "Pasta: Siamese  - Número de arquivos: 210\n"
          ]
        }
      ],
      "source": [
        "# Olhando o número de arquivos por classe\n",
        "for nome_pasta in os.listdir(full_dataset):\n",
        "    caminho_pasta = os.path.join(full_dataset, nome_pasta)\n",
        "  \n",
        "    if os.path.isdir(caminho_pasta):\n",
        "        \n",
        "        lista_arquivos = os.listdir(caminho_pasta)  \n",
        "\n",
        "        num_arquivos = len(lista_arquivos)     \n",
        "\n",
        "        print(\"Pasta:\", nome_pasta, \" - Número de arquivos:\", num_arquivos)"
      ]
    },
    {
      "cell_type": "code",
      "source": [
        "# Criando as listas para armazenar os dados\n",
        "classes = []\n",
        "num_arquivos = []\n",
        "\n",
        "# Olhando o número de arquivos por classe\n",
        "for nome_pasta in os.listdir(full_dataset):\n",
        "    caminho_pasta = os.path.join(full_dataset, nome_pasta)\n",
        "  \n",
        "    if os.path.isdir(caminho_pasta):\n",
        "        \n",
        "        lista_arquivos = os.listdir(caminho_pasta)  \n",
        "\n",
        "        num_arq = len(lista_arquivos)\n",
        "        \n",
        "        classes.append(nome_pasta)\n",
        "        num_arquivos.append(num_arq)\n",
        "\n",
        "# Gerando o gráfico de barras\n",
        "plt.bar(classes, num_arquivos)\n",
        "plt.title(\"Número de arquivos por classe\")\n",
        "plt.xlabel(\"Classe\")\n",
        "plt.ylabel(\"Número de arquivos\")\n",
        "plt.subplots_adjust(bottom=0.25)\n",
        "plt.bar(classes, num_arquivos, width=0.8)\n",
        "plt.xticks(rotation=45, ha=\"right\")\n",
        "plt.show()"
      ],
      "metadata": {
        "colab": {
          "base_uri": "https://localhost:8080/",
          "height": 485
        },
        "id": "sa0HTSxpQB6N",
        "outputId": "5472a971-8271-4642-bc60-2e248c5d0bb4"
      },
      "execution_count": 8,
      "outputs": [
        {
          "output_type": "display_data",
          "data": {
            "text/plain": [
              "<Figure size 640x480 with 1 Axes>"
            ],
            "image/png": "[encoded data removed]"
          },
          "metadata": {}
        }
      ]
    },
    {
      "cell_type": "code",
      "source": [
        "# Criando o gerador de imagens com as transformações desejadas\n",
        "image_generator = keras.preprocessing.image.ImageDataGenerator(\n",
        "    rescale=1./255,\n",
        "    validation_split=0.2, \n",
        "    rotation_range=20, \n",
        "    width_shift_range=0.2,\n",
        "    height_shift_range=0.2,\n",
        "    zoom_range=0.2,\n",
        "    horizontal_flip=True,\n",
        "    brightness_range=[0.5, 1.5],\n",
        "    shear_range=0.2,\n",
        "    fill_mode='reflect',\n",
        "    channel_shift_range=50.0,\n",
        "    vertical_flip=True,\n",
        ")"
      ],
      "metadata": {
        "id": "hrfYrhy3Dil4"
      },
      "execution_count": 9,
      "outputs": []
    },
    {
      "cell_type": "code",
      "source": [
        "# Criando o dataset de Treino\n",
        "train_dataset = image_generator.flow_from_directory(batch_size=batch_size, \n",
        "                                                    directory=full_dataset ,\n",
        "                                                    shuffle=True,\n",
        "                                                    target_size=target_size,\n",
        "                                                    subset=\"training\",\n",
        "                                                    class_mode='categorical')\n",
        "\n",
        "# Criando o dataset de Validação\n",
        "validation_dataset = image_generator.flow_from_directory(batch_size=batch_size, \n",
        "                                                         directory=full_dataset,\n",
        "                                                         shuffle=True,\n",
        "                                                         target_size=target_size,\n",
        "                                                         subset=\"validation\",\n",
        "                                                         class_mode='categorical')\n",
        "\n",
        "# Criando o conjunto de Teste com mesmo tamanho do conjunto de Validação\n",
        "test_dataset = image_generator.flow_from_directory(batch_size=batch_size, \n",
        "                                                    directory=full_dataset,\n",
        "                                                    shuffle = True,\n",
        "                                                    target_size =target_size,\n",
        "                                                    class_mode = 'categorical',\n",
        "                                                    subset = 'validation')"
      ],
      "metadata": {
        "colab": {
          "base_uri": "https://localhost:8080/"
        },
        "id": "dHxszJcWDkpQ",
        "outputId": "070de569-2329-4410-f155-8316b4ef0f16"
      },
      "execution_count": 10,
      "outputs": [
        {
          "output_type": "stream",
          "name": "stdout",
          "text": [
            "Found 1594 images belonging to 10 classes.\n",
            "Found 394 images belonging to 10 classes.\n",
            "Found 394 images belonging to 10 classes.\n"
          ]
        }
      ]
    },
    {
      "cell_type": "code",
      "execution_count": 11,
      "metadata": {
        "id": "LVFbpA5bh40S"
      },
      "outputs": [],
      "source": [
        "# Importar a arquitetura ResNet50V2\n",
        "from tensorflow.keras.applications.resnet_v2 import ResNet50V2\n",
        "\n",
        "# carregar a arquitetura ResNet50V2 pré-treinada\n",
        "base_model = ResNet50V2(weights='imagenet', include_top=False, input_shape=(*target_size, 3))"
      ]
    },
    {
      "cell_type": "code",
      "execution_count": 12,
      "metadata": {
        "id": "CPdjhWFQjzfP"
      },
      "outputs": [],
      "source": [
        "# adicionar camadas adicionais ao modelo\n",
        "x = base_model.output\n",
        "x = Flatten()(x)\n",
        "x = Dense(256, activation='relu')(x) \n",
        "\n",
        "# Adicionamos uma camada de dropout de 0,5, o que significa que metade dos neurônios da camada anterior serão aleatoriamente desativados\n",
        "# durante o treinamento, para evitar overfitting.\n",
        "\n",
        "x = Dropout(0.5)(x)  \n",
        "\n",
        "predictions = Dense(n_classes, activation='softmax')(x)"
      ]
    },
    {
      "cell_type": "code",
      "execution_count": 13,
      "metadata": {
        "id": "sPuuTzGllGqT"
      },
      "outputs": [],
      "source": [
        "# criar modelo final\n",
        "model = Model(inputs=base_model.input, outputs=predictions)\n",
        "\n",
        "# congelar as camadas da base\n",
        "for layer in base_model.layers:\n",
        "    layer.trainable = False"
      ]
    },
    {
      "cell_type": "code",
      "source": [
        "# Learning Rate Fixo\n",
        "lr_fixed = 1e-4\n",
        "\n",
        "# Beta 1\n",
        "beta_1 = 0.9\n",
        "\n",
        "# compilar o modelo com a learning_rate fixa\n",
        "model.compile(optimizer=Adam(learning_rate=lr_fixed, beta_1=beta_1), loss='categorical_crossentropy', metrics=['acc'])"
      ],
      "metadata": {
        "id": "nbGEgR5RYtb1"
      },
      "execution_count": 14,
      "outputs": []
    },
    {
      "cell_type": "code",
      "execution_count": 15,
      "metadata": {
        "colab": {
          "base_uri": "https://localhost:8080/"
        },
        "id": "29wwz44yiWSa",
        "outputId": "d088ee14-f66f-41ea-c0a1-0f83d4b2ba96"
      },
      "outputs": [
        {
          "output_type": "stream",
          "name": "stdout",
          "text": [
            "Epoch 1/50\n",
            "32/32 [==============================] - 36s 839ms/step - loss: 3.6787 - acc: 0.1788 - val_loss: 2.1269 - val_acc: 0.2640\n",
            "Epoch 2/50\n",
            "32/32 [==============================] - 24s 746ms/step - loss: 2.2150 - acc: 0.2348 - val_loss: 2.0412 - val_acc: 0.2893\n",
            "Epoch 3/50\n",
            "32/32 [==============================] - 25s 768ms/step - loss: 2.1232 - acc: 0.2534 - val_loss: 1.9685 - val_acc: 0.2944\n",
            "Epoch 4/50\n",
            "32/32 [==============================] - 24s 758ms/step - loss: 2.0722 - acc: 0.2715 - val_loss: 1.9641 - val_acc: 0.3249\n",
            "Epoch 5/50\n",
            "32/32 [==============================] - 24s 754ms/step - loss: 2.0376 - acc: 0.2773 - val_loss: 1.9205 - val_acc: 0.3452\n",
            "Epoch 6/50\n",
            "32/32 [==============================] - 24s 755ms/step - loss: 1.9614 - acc: 0.3448 - val_loss: 1.9885 - val_acc: 0.3249\n",
            "Epoch 7/50\n",
            "32/32 [==============================] - 24s 769ms/step - loss: 1.9993 - acc: 0.3193 - val_loss: 1.9106 - val_acc: 0.3046\n",
            "Epoch 8/50\n",
            "32/32 [==============================] - 24s 757ms/step - loss: 1.9601 - acc: 0.3448 - val_loss: 1.7919 - val_acc: 0.3706\n",
            "Epoch 9/50\n",
            "32/32 [==============================] - 24s 761ms/step - loss: 1.9519 - acc: 0.3458 - val_loss: 1.8689 - val_acc: 0.3959\n",
            "Epoch 10/50\n",
            "32/32 [==============================] - 25s 771ms/step - loss: 1.9373 - acc: 0.3262 - val_loss: 1.8765 - val_acc: 0.3604\n",
            "Epoch 11/50\n",
            "32/32 [==============================] - 24s 761ms/step - loss: 1.9001 - acc: 0.3517 - val_loss: 1.9177 - val_acc: 0.3528\n",
            "Epoch 12/50\n",
            "32/32 [==============================] - 24s 760ms/step - loss: 1.9281 - acc: 0.3389 - val_loss: 1.8864 - val_acc: 0.3579\n",
            "Epoch 13/50\n",
            "32/32 [==============================] - 24s 763ms/step - loss: 1.8828 - acc: 0.3713 - val_loss: 1.8362 - val_acc: 0.3782\n",
            "Epoch 14/50\n",
            "32/32 [==============================] - 24s 753ms/step - loss: 1.8710 - acc: 0.3566 - val_loss: 1.8164 - val_acc: 0.4188\n",
            "Epoch 15/50\n",
            "32/32 [==============================] - 24s 756ms/step - loss: 1.8146 - acc: 0.3733 - val_loss: 1.8559 - val_acc: 0.3706\n",
            "Epoch 16/50\n",
            "32/32 [==============================] - 24s 758ms/step - loss: 1.8331 - acc: 0.3674 - val_loss: 1.7557 - val_acc: 0.3731\n",
            "Epoch 17/50\n",
            "32/32 [==============================] - 24s 766ms/step - loss: 1.8109 - acc: 0.3792 - val_loss: 1.7368 - val_acc: 0.3883\n",
            "Epoch 18/50\n",
            "32/32 [==============================] - 24s 767ms/step - loss: 1.8090 - acc: 0.3818 - val_loss: 1.6689 - val_acc: 0.3883\n",
            "Epoch 19/50\n",
            "32/32 [==============================] - 24s 768ms/step - loss: 1.7926 - acc: 0.3723 - val_loss: 1.8526 - val_acc: 0.3959\n",
            "Epoch 20/50\n",
            "32/32 [==============================] - 24s 756ms/step - loss: 1.7287 - acc: 0.3743 - val_loss: 1.8413 - val_acc: 0.3858\n",
            "Epoch 21/50\n",
            "32/32 [==============================] - 24s 753ms/step - loss: 1.7755 - acc: 0.3782 - val_loss: 1.8300 - val_acc: 0.3807\n",
            "Epoch 22/50\n",
            "32/32 [==============================] - 24s 744ms/step - loss: 1.7759 - acc: 0.3939 - val_loss: 1.7816 - val_acc: 0.3807\n",
            "Epoch 23/50\n",
            "32/32 [==============================] - 24s 753ms/step - loss: 1.7297 - acc: 0.4023 - val_loss: 1.7540 - val_acc: 0.3985\n",
            "Epoch 24/50\n",
            "32/32 [==============================] - 24s 769ms/step - loss: 1.7892 - acc: 0.4136 - val_loss: 1.7868 - val_acc: 0.4137\n",
            "Epoch 25/50\n",
            "32/32 [==============================] - 25s 775ms/step - loss: 1.7173 - acc: 0.4062 - val_loss: 1.7095 - val_acc: 0.4721\n",
            "Epoch 26/50\n",
            "32/32 [==============================] - 24s 768ms/step - loss: 1.7470 - acc: 0.4043 - val_loss: 1.8043 - val_acc: 0.3731\n",
            "Epoch 27/50\n",
            "32/32 [==============================] - 24s 767ms/step - loss: 1.7226 - acc: 0.3949 - val_loss: 1.7319 - val_acc: 0.4061\n",
            "Epoch 28/50\n",
            "32/32 [==============================] - 24s 758ms/step - loss: 1.6622 - acc: 0.4189 - val_loss: 1.7322 - val_acc: 0.4213\n",
            "Epoch 29/50\n",
            "32/32 [==============================] - 24s 759ms/step - loss: 1.6999 - acc: 0.4086 - val_loss: 1.8113 - val_acc: 0.4036\n",
            "Epoch 30/50\n",
            "32/32 [==============================] - 24s 768ms/step - loss: 1.7177 - acc: 0.4131 - val_loss: 1.6928 - val_acc: 0.4086\n",
            "Epoch 31/50\n",
            "32/32 [==============================] - 25s 772ms/step - loss: 1.6968 - acc: 0.4180 - val_loss: 1.7068 - val_acc: 0.4365\n",
            "Epoch 32/50\n",
            "32/32 [==============================] - 25s 773ms/step - loss: 1.6131 - acc: 0.4541 - val_loss: 1.7820 - val_acc: 0.3959\n",
            "Epoch 33/50\n",
            "32/32 [==============================] - 24s 753ms/step - loss: 1.6704 - acc: 0.4008 - val_loss: 1.7837 - val_acc: 0.4162\n",
            "Epoch 34/50\n",
            "32/32 [==============================] - 24s 761ms/step - loss: 1.7239 - acc: 0.4258 - val_loss: 1.6381 - val_acc: 0.4543\n",
            "Epoch 35/50\n",
            "32/32 [==============================] - 25s 773ms/step - loss: 1.6855 - acc: 0.4303 - val_loss: 1.7394 - val_acc: 0.3985\n",
            "Epoch 36/50\n",
            "32/32 [==============================] - 25s 790ms/step - loss: 1.6307 - acc: 0.4460 - val_loss: 1.7255 - val_acc: 0.4036\n",
            "Epoch 37/50\n",
            "32/32 [==============================] - 25s 796ms/step - loss: 1.6550 - acc: 0.4361 - val_loss: 1.7946 - val_acc: 0.4112\n",
            "Epoch 38/50\n",
            "32/32 [==============================] - 25s 792ms/step - loss: 1.6212 - acc: 0.4479 - val_loss: 1.7928 - val_acc: 0.4162\n",
            "Epoch 39/50\n",
            "32/32 [==============================] - 26s 802ms/step - loss: 1.6212 - acc: 0.4170 - val_loss: 1.7853 - val_acc: 0.3883\n",
            "Epoch 40/50\n",
            "32/32 [==============================] - 25s 790ms/step - loss: 1.6235 - acc: 0.4420 - val_loss: 1.7452 - val_acc: 0.4289\n",
            "Epoch 41/50\n",
            "32/32 [==============================] - 24s 761ms/step - loss: 1.5880 - acc: 0.4521 - val_loss: 1.7582 - val_acc: 0.4112\n",
            "Epoch 42/50\n",
            "32/32 [==============================] - 24s 753ms/step - loss: 1.6124 - acc: 0.4365 - val_loss: 1.7550 - val_acc: 0.3832\n",
            "Epoch 43/50\n",
            "32/32 [==============================] - 25s 769ms/step - loss: 1.6220 - acc: 0.4322 - val_loss: 1.7031 - val_acc: 0.4086\n",
            "Epoch 44/50\n",
            "32/32 [==============================] - 25s 770ms/step - loss: 1.6357 - acc: 0.4443 - val_loss: 1.7334 - val_acc: 0.4162\n",
            "Epoch 45/50\n",
            "32/32 [==============================] - 24s 759ms/step - loss: 1.6129 - acc: 0.4411 - val_loss: 1.7246 - val_acc: 0.4162\n",
            "Epoch 46/50\n",
            "32/32 [==============================] - 24s 757ms/step - loss: 1.5937 - acc: 0.4580 - val_loss: 1.8065 - val_acc: 0.3756\n",
            "Epoch 47/50\n",
            "32/32 [==============================] - 24s 769ms/step - loss: 1.6330 - acc: 0.4424 - val_loss: 1.7650 - val_acc: 0.4137\n",
            "Epoch 48/50\n",
            "32/32 [==============================] - 25s 770ms/step - loss: 1.6395 - acc: 0.4528 - val_loss: 1.6943 - val_acc: 0.4137\n",
            "Epoch 49/50\n",
            "32/32 [==============================] - 24s 770ms/step - loss: 1.5564 - acc: 0.4521 - val_loss: 1.7266 - val_acc: 0.4264\n",
            "Epoch 50/50\n",
            "32/32 [==============================] - 25s 771ms/step - loss: 1.5954 - acc: 0.4365 - val_loss: 1.7000 - val_acc: 0.4239\n"
          ]
        }
      ],
      "source": [
        "# Treinar o Modelo\n",
        "history = model.fit(\n",
        "    train_dataset,\n",
        "    steps_per_epoch=(batch_size),\n",
        "    epochs=50,\n",
        "    validation_data=validation_dataset,\n",
        "    validation_steps=len(validation_dataset))"
      ]
    },
    {
      "cell_type": "code",
      "execution_count": 17,
      "metadata": {
        "id": "E-Fo15aGBMmM",
        "colab": {
          "base_uri": "https://localhost:8080/"
        },
        "outputId": "3ec2e4cc-d78b-45cb-c593-0b63b8bd9517"
      },
      "outputs": [
        {
          "output_type": "stream",
          "name": "stdout",
          "text": [
            "13/13 [==============================] - 8s 546ms/step\n"
          ]
        }
      ],
      "source": [
        "# Avaliando o modelo com conjunto de teste\n",
        "y_pred = model.predict(test_dataset)\n",
        "y_pred = np.argmax(y_pred, axis=1)\n",
        "y_true = test_dataset.classes"
      ]
    },
    {
      "cell_type": "code",
      "execution_count": 18,
      "metadata": {
        "id": "owf7-kem_1T5",
        "colab": {
          "base_uri": "https://localhost:8080/"
        },
        "outputId": "6cd7c556-577d-4ea4-81bb-e6da58de0548"
      },
      "outputs": [
        {
          "output_type": "stream",
          "name": "stdout",
          "text": [
            "Matriz de Confusão:\n",
            " [[ 0 10  1  3  9  3  3  2  9  2]\n",
            " [ 3  5  1  5  5  7  2  1  9  4]\n",
            " [ 5  5  1  3  2  2  2  1  6  7]\n",
            " [ 2  7  1  3  6  9  3  4  7  4]\n",
            " [ 5  7  2  5  2  4  2  0  5  4]\n",
            " [ 3  9  6  0  6 10  3  1  7  8]\n",
            " [ 5  4  3  1  6  6  1  1  9  0]\n",
            " [ 3  3  0  1  3  3  1  1  2  5]\n",
            " [ 6  3  1  3  3 10  1  1  9  5]\n",
            " [ 5  4  2  3  1  8  6  1  7  4]]\n"
          ]
        }
      ],
      "source": [
        "# Gerando a Matriz de Confusão\n",
        "conf_matrix = confusion_matrix(y_true, y_pred)\n",
        "print(\"Matriz de Confusão:\\n\", conf_matrix)"
      ]
    },
    {
      "cell_type": "code",
      "source": [
        "# Plotar o gráfico de loss durante o treinamento\n",
        "plt.plot(history.history['loss'])\n",
        "plt.plot(history.history['val_loss'])\n",
        "plt.title('Model loss')\n",
        "plt.ylabel('Loss')\n",
        "plt.xlabel('Epoch')\n",
        "plt.legend(['Train', 'Validation'], loc='upper right')\n",
        "plt.show()"
      ],
      "metadata": {
        "colab": {
          "base_uri": "https://localhost:8080/",
          "height": 472
        },
        "id": "WuWkhtQ8VzYw",
        "outputId": "caaf70a5-f0c3-4106-a56e-4addbd651c3e"
      },
      "execution_count": 19,
      "outputs": [
        {
          "output_type": "display_data",
          "data": {
            "text/plain": [
              "<Figure size 640x480 with 1 Axes>"
            ],
            "image/png": "[encoded data removed]"
          },
          "metadata": {}
        }
      ]
    }
  ],
  "metadata": {
    "colab": {
      "provenance": [],
      "machine_shape": "hm",
      "authorship_tag": "ABX9TyMFZwcMvdGgr3ov+zY3n328",
      "include_colab_link": true
    },
    "gpuClass": "premium",
    "kernelspec": {
      "display_name": "Python 3",
      "name": "python3"
    },
    "language_info": {
      "name": "python"
    },
    "accelerator": "GPU"
  },
  "nbformat": 4,
  "nbformat_minor": 0
}