{
  "cells": [
    {
      "cell_type": "markdown",
      "metadata": {
        "id": "view-in-github",
        "colab_type": "text"
      },
      "source": [
        "<a href=\"https://colab.research.google.com/github/giovannasantoloni/Projetos-de-Sistemas-Inteligentes-de-Apoio-Decis-o/blob/main/Projeto_Final_Curso_BI_Master_2021_1_Giovanna_Dohnert.ipynb\" target=\"_parent\"><img src=\"https://colab.research.google.com/assets/colab-badge.svg\" alt=\"Open In Colab\"/></a>"
      ]
    },
    {
      "cell_type": "markdown",
      "metadata": {
        "id": "_A-0xp8cx2Av"
      },
      "source": [
        "# Projeto Final Curso BI Master 2021-1\n",
        "> Por Giovanna Santoloni Dohnert"
      ]
    },
    {
      "cell_type": "code",
      "execution_count": 1,
      "metadata": {
        "colab": {
          "base_uri": "https://localhost:8080/"
        },
        "id": "UEqYs6BQzQo-",
        "outputId": "456a1b23-e12a-40e1-be81-10c529240fcf"
      },
      "outputs": [
        {
          "output_type": "stream",
          "name": "stdout",
          "text": [
            "Mounted at /content/drive\n"
          ]
        }
      ],
      "source": [
        "#Montagem do Drive \n",
        "from google.colab import drive\n",
        "drive.mount('/content/drive')\n"
      ]
    },
    {
      "cell_type": "code",
      "execution_count": 2,
      "metadata": {
        "id": "MbV235WEzt6K"
      },
      "outputs": [],
      "source": [
        "#Importar Bibliotecas\n",
        "import numpy as np\n",
        "import pandas as pd\n",
        "import os\n",
        "import shutil\n",
        "import cv2\n",
        "from glob import glob\n",
        "import pickle\n",
        "import matplotlib.pyplot as plt\n",
        "import tensorflow as tf\n",
        "import tensorflow.keras\n",
        "import random\n",
        "import shutil\n"
      ]
    },
    {
      "cell_type": "code",
      "execution_count": 3,
      "metadata": {
        "id": "GBY3Hu2Q0mWY"
      },
      "outputs": [],
      "source": [
        "#Importar Aplicações\n",
        "from tensorflow import keras\n",
        "from tensorflow.keras import layers\n",
        "from tensorflow.keras.datasets import mnist\n",
        "from tensorflow.keras.applications import VGG16\n",
        "from tensorflow.keras.layers import Dense, Dropout, Input\n",
        "from tensorflow.keras.layers import Flatten\n",
        "from tensorflow.keras.models import Model\n",
        "from tensorflow.keras.optimizers import Adam\n",
        "from tensorflow.keras.preprocessing.image import ImageDataGenerator\n",
        "from pathlib import Path\n",
        "from sklearn.model_selection import train_test_split \n",
        "from sklearn.metrics import confusion_matrix, classification_report\n",
        "from sklearn.metrics import confusion_matrix\n",
        "from sklearn.metrics import roc_auc_score\n",
        "from scipy import ndimage, misc\n",
        "import skimage\n",
        "from keras.applications.inception_v3 import InceptionV3, preprocess_input\n",
        "from keras.models import Sequential\n",
        "from keras.layers.pooling import GlobalAveragePooling2D\n",
        "from keras.models.cloning import training\n",
        "from tensorflow.keras.layers import Dense, Dropout\n",
        "from tensorflow.keras.callbacks import ReduceLROnPlateau\n",
        "from tensorflow.keras.optimizers import RMSprop\n",
        "from sklearn.metrics import classification_report, confusion_matrix\n",
        "from keras.callbacks import LearningRateScheduler\n"
      ]
    },
    {
      "cell_type": "code",
      "execution_count": 4,
      "metadata": {
        "id": "UUpt76Qz8TDh"
      },
      "outputs": [],
      "source": [
        "# Caminho da Base de Dados\n",
        "import os\n",
        "workdir_path = '/content/drive/My Drive/Projeto Final BI/images' \n",
        "os.chdir(workdir_path)\n"
      ]
    },
    {
      "cell_type": "code",
      "execution_count": 5,
      "metadata": {
        "id": "y9D39u210jmC"
      },
      "outputs": [],
      "source": [
        "# Caminho do dataset\n",
        "full_dataset = r'/content/drive/My Drive/Projeto Final BI/images'"
      ]
    },
    {
      "cell_type": "markdown",
      "metadata": {
        "id": "YPXzkIpL6is5"
      },
      "source": [
        "# Definição de Parâmetros:\n",
        "A definição de parâmetros em um modelo de classificação de imagens é essencial para que o modelo possa aprender a partir dos dados de treinamento e, posteriormente, ser capaz de classificar novas imagens de forma precisa. A escolha adequada dos parâmetros pode melhorar significativamente a precisão do modelo e sua capacidade de generalização para novos dados. \n"
      ]
    },
    {
      "cell_type": "code",
      "execution_count": 6,
      "metadata": {
        "id": "TKjcN-4v0xDc"
      },
      "outputs": [],
      "source": [
        "#Definição de Parâmetros\n",
        "\n",
        "#Número de Classes \n",
        "n_classes = 10\n",
        "\n",
        "#Tamanho das Imagens\n",
        "target_size = (512, 512)\n",
        "\n",
        "#Tamanho do Lote para Treinamento\n",
        "batch_size = 32\n"
      ]
    },
    {
      "cell_type": "code",
      "execution_count": 7,
      "metadata": {
        "colab": {
          "base_uri": "https://localhost:8080/"
        },
        "id": "JDpVG6QWaOuY",
        "outputId": "56722289-075b-44d8-f681-3781e3177931"
      },
      "outputs": [
        {
          "output_type": "stream",
          "name": "stdout",
          "text": [
            "Pasta: Havana  - Número de arquivos: 184\n",
            "Pasta: Munchkin  - Número de arquivos: 181\n",
            "Pasta: Pixiebob  - Número de arquivos: 111\n",
            "Pasta: Sphynx  - Número de arquivos: 209\n",
            "Pasta: Exotic Shorthair  - Número de arquivos: 232\n",
            "Pasta: Cornish Rex  - Número de arquivos: 171\n",
            "Pasta: American Bobtail  - Número de arquivos: 210\n",
            "Pasta: Maine Coon  - Número de arquivos: 267\n",
            "Pasta: British Shorthair  - Número de arquivos: 213\n",
            "Pasta: Siamese  - Número de arquivos: 210\n"
          ]
        }
      ],
      "source": [
        "# Olhando o número de arquivos por classe\n",
        "for nome_pasta in os.listdir(full_dataset):\n",
        "    caminho_pasta = os.path.join(full_dataset, nome_pasta)\n",
        "  \n",
        "    if os.path.isdir(caminho_pasta):\n",
        "        \n",
        "        lista_arquivos = os.listdir(caminho_pasta)  \n",
        "\n",
        "        num_arquivos = len(lista_arquivos)     \n",
        "\n",
        "        print(\"Pasta:\", nome_pasta, \" - Número de arquivos:\", num_arquivos)"
      ]
    },
    {
      "cell_type": "code",
      "source": [
        "# Criando as listas para armazenar os dados\n",
        "classes = []\n",
        "num_arquivos = []\n",
        "\n",
        "# Olhando o número de arquivos por classe\n",
        "for nome_pasta in os.listdir(full_dataset):\n",
        "    caminho_pasta = os.path.join(full_dataset, nome_pasta)\n",
        "  \n",
        "    if os.path.isdir(caminho_pasta):\n",
        "        \n",
        "        lista_arquivos = os.listdir(caminho_pasta)  \n",
        "\n",
        "        num_arq = len(lista_arquivos)\n",
        "        \n",
        "        classes.append(nome_pasta)\n",
        "        num_arquivos.append(num_arq)\n",
        "\n",
        "# Gerando o gráfico de barras\n",
        "plt.bar(classes, num_arquivos)\n",
        "plt.title(\"Número de arquivos por classe\")\n",
        "plt.xlabel(\"Classe\")\n",
        "plt.ylabel(\"Número de arquivos\")\n",
        "plt.subplots_adjust(bottom=0.25)\n",
        "plt.bar(classes, num_arquivos, width=0.8)\n",
        "plt.xticks(rotation=45, ha=\"right\")\n",
        "plt.show()"
      ],
      "metadata": {
        "colab": {
          "base_uri": "https://localhost:8080/",
          "height": 317
        },
        "id": "sa0HTSxpQB6N",
        "outputId": "f2ccdd0b-4ee5-4d0b-8169-8260e30c4a7a"
      },
      "execution_count": 8,
      "outputs": [
        {
          "output_type": "display_data",
          "data": {
            "text/plain": [
              "<Figure size 432x288 with 1 Axes>"
            ],
            "image/png": "[encoded data removed]"
          },
          "metadata": {
            "needs_background": "light"
          }
        }
      ]
    },
    {
      "cell_type": "markdown",
      "metadata": {
        "id": "-JOQzswx9FcI"
      },
      "source": [
        "# Data Augmentation\n",
        "\n",
        "O data augmentation foi utilizada para aumentar a quantidade de dados de treinamento do modelo, através da geração de novas amostras a partir das amostras existentes, aplicando transformações como rotação, espelhamento (...) entre outros."
      ]
    },
    {
      "cell_type": "markdown",
      "metadata": {
        "id": "11BwX4If6rE7"
      },
      "source": [
        "# Separando o Conjunto de Dados em Treino, Validação e Teste\n",
        "\n",
        "Separamos o conjunto de dados em treino, validação e teste a fim de avaliar o desempenho do modelo frente a diferentes dados e garantir que ele seja capaz de generalizar de maneira adequada. \n",
        "\n",
        "•\tConjunto de Treino: usado para treinar o modelo, ajustar os pesos e os parâmetros do modelo com base nos dados de treinamento.\n",
        "\n",
        "•\tConjunto de Validação: usado para avaliar o desempenho do modelo em dados que ele não viu durante o treinamento e otimizar os parâmetros do modelo para obter um melhor desempenho.\n",
        "\n",
        "•\tConjunto de Teste: usado para avaliar o desempenho final do modelo em dados completamente novos que não foram usados para treinamento ou validação."
      ]
    },
    {
      "cell_type": "code",
      "execution_count": null,
      "metadata": {
        "colab": {
          "base_uri": "https://localhost:8080/"
        },
        "outputId": "92dba3a2-b37a-4e3a-c514-61c57985c0a6",
        "id": "4Y8FyenIMASz"
      },
      "outputs": [
        {
          "output_type": "stream",
          "name": "stdout",
          "text": [
            "Found 1594 images belonging to 10 classes.\n",
            "Found 394 images belonging to 10 classes.\n"
          ]
        },
        {
          "output_type": "stream",
          "name": "stderr",
          "text": [
            "/usr/local/lib/python3.9/dist-packages/keras/preprocessing/image.py:1861: UserWarning: This ImageDataGenerator specifies `featurewise_center`, but it hasn't been fit on any training data. Fit it first by calling `.fit(numpy_data)`.\n",
            "  warnings.warn(\n"
          ]
        }
      ],
      "source": [
        "# Data Augmentation\n",
        "image_generator = ImageDataGenerator(\n",
        "    rescale=1./255,\n",
        "    validation_split=0.2, \n",
        "    rotation_range=20, \n",
        "    width_shift_range=0.2,\n",
        "    height_shift_range=0.2,\n",
        "    zoom_range=0.2,\n",
        "    horizontal_flip=True,\n",
        "    brightness_range=[0.5, 1.5],  # variação no brilho \n",
        "    shear_range=0.2,  # corte de perspectiva na imagem\n",
        "    fill_mode='reflect',  # preenche pixels faltantes \n",
        "    channel_shift_range=50.0,  # mudança aleatória nos canais R, G, B\n",
        "    vertical_flip=True,  # gira a imagem de cabeça para baixo\n",
        "    featurewise_center=True,  # centralização da imagem com base na média dos pixels\n",
        ")\n",
        "\n",
        "# Separando o Conjunto de Dados em Treino e Validação\n",
        "train_dataset = image_generator.flow_from_directory(batch_size=batch_size, \n",
        "                                                    directory=full_dataset ,\n",
        "                                                    shuffle = True,\n",
        "                                                    target_size =target_size,\n",
        "                                                    subset =\"training\",\n",
        "                                                    class_mode = 'categorical')\n",
        "\n",
        "validation_dataset = image_generator.flow_from_directory(batch_size=batch_size, \n",
        "                                                    directory=full_dataset,\n",
        "                                                    shuffle = True,\n",
        "                                                    target_size =target_size,\n",
        "                                                    subset =\"validation\",\n",
        "                                                    class_mode = 'categorical')\n",
        "\n",
        "# Fit do gerador de imagens\n",
        "image_generator.fit(train_dataset)"
      ]
    },
    {
      "cell_type": "code",
      "execution_count": null,
      "metadata": {
        "id": "OxRhFgoH5lLB"
      },
      "outputs": [],
      "source": [
        "# Separando o conjunto de Teste\n",
        "image_generator = ImageDataGenerator(rescale=1./255)\n",
        "\n",
        "test_dataset = image_generator.flow_from_directory(batch_size=batch_size, \n",
        "                                                    directory=full_dataset,\n",
        "                                                    shuffle = True,\n",
        "                                                    target_size =target_size,\n",
        "                                                    class_mode = 'categorical')"
      ]
    },
    {
      "cell_type": "markdown",
      "metadata": {
        "id": "6RKSutGu627c"
      },
      "source": [
        "# Utilização do Transfer Learning\n",
        "O uso de Transfer Learning e pesos pré-treinados do modelo VGG16 ajuda a melhorar a precisão do modelo de classificação de imagens, a reduzir o tempo e o custo de treinamento e a lidar com conjuntos de dados pequenos.\n"
      ]
    },
    {
      "cell_type": "code",
      "execution_count": null,
      "metadata": {
        "id": "LVFbpA5bh40S"
      },
      "outputs": [],
      "source": [
        "# carregar a arquitetura VGG16 pré-treinada\n",
        "base_model = VGG16(weights='imagenet', include_top=False, input_shape=(*target_size, 3))"
      ]
    },
    {
      "cell_type": "code",
      "execution_count": null,
      "metadata": {
        "id": "CPdjhWFQjzfP"
      },
      "outputs": [],
      "source": [
        "# adicionar camadas adicionais ao modelo\n",
        "x = base_model.output\n",
        "x = Flatten()(x)\n",
        "x = Dense(256, activation='relu')(x) \n",
        "\n",
        "# Adicionamos uma camada de dropout de 0,5, o que significa que metade dos neurônios da camada anterior serão aleatoriamente desativados\n",
        "# durante o treinamento, para evitar overfitting.\n",
        "\n",
        "x = Dropout(0.5)(x)  \n",
        "\n",
        "predictions = Dense(n_classes, activation='softmax')(x)"
      ]
    },
    {
      "cell_type": "code",
      "execution_count": null,
      "metadata": {
        "id": "sPuuTzGllGqT"
      },
      "outputs": [],
      "source": [
        "# criar modelo final\n",
        "model = Model(inputs=base_model.input, outputs=predictions)\n",
        "\n",
        "# congelar as camadas da base\n",
        "for layer in base_model.layers:\n",
        "    layer.trainable = False"
      ]
    },
    {
      "cell_type": "code",
      "source": [
        "# Learning Rate Adaptativa\n",
        "def scheduler(epoch, lr):\n",
        "    if epoch % 5 == 0 and epoch > 0:\n",
        "        lr = lr / 2\n",
        "    return lr\n",
        "\n",
        "lr_scheduler = LearningRateScheduler(scheduler)\n",
        "\n",
        "# compilar o modelo\n",
        "model.compile(optimizer=RMSprop(learning_rate=1e-4), loss='categorical_crossentropy', metrics=['acc'])"
      ],
      "metadata": {
        "id": "nbGEgR5RYtb1"
      },
      "execution_count": null,
      "outputs": []
    },
    {
      "cell_type": "code",
      "execution_count": null,
      "metadata": {
        "id": "29wwz44yiWSa"
      },
      "outputs": [],
      "source": [
        "# Treinar o Modelo\n",
        "history = model.fit(\n",
        "    train_dataset,\n",
        "    steps_per_epoch=len(train_dataset),\n",
        "    epochs=30,\n",
        "    validation_data=validation_dataset,\n",
        "    validation_steps=len(validation_dataset),\n",
        "    callbacks=[lr_scheduler])"
      ]
    },
    {
      "cell_type": "code",
      "execution_count": null,
      "metadata": {
        "id": "E-Fo15aGBMmM"
      },
      "outputs": [],
      "source": [
        "# Avaliando o modelo com conjunto de teste\n",
        "y_pred = model.predict(test_dataset)\n",
        "y_pred = np.argmax(y_pred, axis=1)\n",
        "y_true = test_dataset.classes"
      ]
    },
    {
      "cell_type": "code",
      "execution_count": null,
      "metadata": {
        "id": "owf7-kem_1T5"
      },
      "outputs": [],
      "source": [
        "# Gerando a Matriz de Confusão\n",
        "conf_matrix = confusion_matrix(y_true, y_pred)\n",
        "print(\"Matriz de Confusão:\\n\", conf_matrix)"
      ]
    },
    {
      "cell_type": "markdown",
      "metadata": {
        "id": "a9J27OmU5zWY"
      },
      "source": [
        "# Conclusões \n",
        "\n",
        "O modelo apresentou um desempenho razoável, contudo ainda parece sofrer com overfitting, já que a acurácia no conjunto de validação apresenta-se consideravelmente menor do que a acurácia no conjunto de treinamento. Isso pode ser observado nas diferenças entre as acurácias do conjunto de treinamento e validação nas epochs 1, 2, 3 e 5.\n",
        "\n",
        "O valor da função de perda (loss) no conjunto de validação também não reduz consistentemente com as epochs, o que sugere que o modelo pode estar estagnado do ponto de vista de aprendizado. Em resumo,  o modelo possa se beneficiará de ajustes nos hiperparâmetros para otimizar seu desempenho.                                                                \n",
        "\n",
        "A partir da matriz de confusão, podemos observar que o modelo não está performando bem para algumas classes específicas. Por exemplo, para a classe 2, não foi possível prever nenhuma raça corretamente, o que indica que o modelo precisa ser melhorado para esta classe. O modelo também apresentou baixo desempenho para as classes 1, 4 e 7.\n",
        "\n",
        "Podemos calcular a acurácia do modelo a partir da matriz de confusão, o que aponta para o percentual de corretas em relação ao total de predições: A acurácia é de aproximadamente 53,8%."
      ]
    }
  ],
  "metadata": {
    "colab": {
      "provenance": [],
      "machine_shape": "hm",
      "authorship_tag": "ABX9TyND0qZOKNxeKsL1RiyRAHcF",
      "include_colab_link": true
    },
    "gpuClass": "premium",
    "kernelspec": {
      "display_name": "Python 3",
      "name": "python3"
    },
    "language_info": {
      "name": "python"
    },
    "accelerator": "TPU"
  },
  "nbformat": 4,
  "nbformat_minor": 0
}