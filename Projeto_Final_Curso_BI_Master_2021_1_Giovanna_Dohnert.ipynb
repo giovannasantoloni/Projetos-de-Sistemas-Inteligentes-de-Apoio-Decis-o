{
  "cells": [
    {
      "cell_type": "markdown",
      "metadata": {
        "id": "view-in-github",
        "colab_type": "text"
      },
      "source": [
        "<a href=\"https://colab.research.google.com/github/giovannasantoloni/Projetos-de-Sistemas-Inteligentes-de-Apoio-Decis-o/blob/main/Projeto_Final_Curso_BI_Master_2021_1_Giovanna_Dohnert.ipynb\" target=\"_parent\"><img src=\"https://colab.research.google.com/assets/colab-badge.svg\" alt=\"Open In Colab\"/></a>"
      ]
    },
    {
      "cell_type": "markdown",
      "metadata": {
        "id": "_A-0xp8cx2Av"
      },
      "source": [
        "# Projeto Final Curso BI Master 2021-1\n",
        "> Por Giovanna Santoloni Dohnert"
      ]
    },
    {
      "cell_type": "code",
      "execution_count": 1,
      "metadata": {
        "id": "UEqYs6BQzQo-",
        "colab": {
          "base_uri": "https://localhost:8080/"
        },
        "outputId": "af98b15d-e849-43ea-92e6-015e6a9897ba"
      },
      "outputs": [
        {
          "output_type": "stream",
          "name": "stdout",
          "text": [
            "Mounted at /content/drive\n"
          ]
        }
      ],
      "source": [
        "#Montagem do Drive \n",
        "from google.colab import drive\n",
        "drive.mount('/content/drive')\n"
      ]
    },
    {
      "cell_type": "code",
      "execution_count": 2,
      "metadata": {
        "id": "MbV235WEzt6K"
      },
      "outputs": [],
      "source": [
        "#Importar Bibliotecas\n",
        "import numpy as np\n",
        "import pandas as pd\n",
        "import os\n",
        "import shutil\n",
        "import cv2\n",
        "from glob import glob\n",
        "import pickle\n",
        "import matplotlib.pyplot as plt\n",
        "import tensorflow as tf\n",
        "import tensorflow.keras\n",
        "import random\n",
        "import shutil\n"
      ]
    },
    {
      "cell_type": "code",
      "execution_count": 3,
      "metadata": {
        "id": "GBY3Hu2Q0mWY"
      },
      "outputs": [],
      "source": [
        "#Importar Aplicações\n",
        "from tensorflow import keras\n",
        "from tensorflow.keras import layers\n",
        "from tensorflow.keras.datasets import mnist\n",
        "from tensorflow.keras.applications import VGG16\n",
        "from tensorflow.keras.layers import Dense, Dropout, Input\n",
        "from tensorflow.keras.layers import Flatten\n",
        "from tensorflow.keras.models import Model\n",
        "from tensorflow.keras.optimizers import Adam\n",
        "from tensorflow.keras.preprocessing.image import ImageDataGenerator\n",
        "from pathlib import Path\n",
        "from sklearn.model_selection import train_test_split \n",
        "from sklearn.metrics import confusion_matrix, classification_report\n",
        "from sklearn.metrics import confusion_matrix\n",
        "from sklearn.metrics import roc_auc_score\n",
        "from scipy import ndimage, misc\n",
        "import skimage\n",
        "from keras.applications.inception_v3 import InceptionV3, preprocess_input\n",
        "from keras.models import Sequential\n",
        "from keras.layers.pooling import GlobalAveragePooling2D\n",
        "from keras.models.cloning import training\n",
        "from tensorflow.keras.layers import Dense, Dropout\n"
      ]
    },
    {
      "cell_type": "code",
      "execution_count": 4,
      "metadata": {
        "id": "UUpt76Qz8TDh"
      },
      "outputs": [],
      "source": [
        "#Caminho da Base de Dados\n",
        "import os\n",
        "workdir_path = '/content/drive/My Drive/Projeto Final BI/images'  # Local da pasta onde estão os arquivos de entrada (full dataset)\n",
        "os.chdir(workdir_path)\n"
      ]
    },
    {
      "cell_type": "code",
      "source": [
        "# Caminho da pasta que contém todas as imagens\n",
        "full_dataset = r'/content/drive/My Drive/Projeto Final BI/images'"
      ],
      "metadata": {
        "id": "y9D39u210jmC"
      },
      "execution_count": 5,
      "outputs": []
    },
    {
      "cell_type": "code",
      "execution_count": 6,
      "metadata": {
        "id": "TKjcN-4v0xDc"
      },
      "outputs": [],
      "source": [
        "#Definição de Parâmetros\n",
        "\n",
        "#Número de Classes \n",
        "n_classes = 9\n",
        "\n",
        "#Tamanho das Imagens\n",
        "target_size = (280, 280)\n",
        "\n",
        "#Tamanho do Lote para Treinamento\n",
        "batch_size = 64\n"
      ]
    },
    {
      "cell_type": "code",
      "source": [
        "# Separando o Conjunto de Dados em Treino e Validação\n",
        "\n",
        "image_generator = ImageDataGenerator(rescale=1./255, validation_split=0.2, rotation_range=20, # aumentando a variabilidade de dados\n",
        "width_shift_range=0.2,\n",
        "height_shift_range=0.2,\n",
        "zoom_range=0.2,\n",
        "horizontal_flip=True\n",
        ")\n",
        "\n",
        "train_dataset = image_generator.flow_from_directory(batch_size=batch_size, \n",
        "                                                    directory=full_dataset ,\n",
        "                                                    shuffle = True,\n",
        "                                                    target_size =target_size,\n",
        "                                                    subset =\"training\",\n",
        "                                                    class_mode = 'categorical')\n",
        "\n",
        "validation_dataset = image_generator.flow_from_directory(batch_size=batch_size, \n",
        "                                                    directory=full_dataset,\n",
        "                                                    shuffle = True,\n",
        "                                                    target_size =target_size,\n",
        "                                                    subset =\"validation\",\n",
        "                                                    class_mode = 'categorical')"
      ],
      "metadata": {
        "colab": {
          "base_uri": "https://localhost:8080/"
        },
        "id": "spXUdDwNIaAu",
        "outputId": "88b6887d-15a7-4fec-9b8e-46f26bd4f9ac"
      },
      "execution_count": 7,
      "outputs": [
        {
          "output_type": "stream",
          "name": "stdout",
          "text": [
            "Found 4239 images belonging to 9 classes.\n",
            "Found 1055 images belonging to 9 classes.\n"
          ]
        }
      ]
    },
    {
      "cell_type": "code",
      "execution_count": 8,
      "metadata": {
        "id": "OxRhFgoH5lLB",
        "colab": {
          "base_uri": "https://localhost:8080/"
        },
        "outputId": "b4359da2-c7ed-42ed-e7db-e6ddadfa3984"
      },
      "outputs": [
        {
          "output_type": "stream",
          "name": "stdout",
          "text": [
            "Found 5294 images belonging to 9 classes.\n"
          ]
        }
      ],
      "source": [
        "# Separando o conjunto de Teste\n",
        "image_generator = ImageDataGenerator(rescale=1./255)\n",
        "\n",
        "test_dataset = image_generator.flow_from_directory(batch_size=batch_size, \n",
        "                                                    directory=full_dataset,\n",
        "                                                    shuffle = True,\n",
        "                                                    target_size =target_size,\n",
        "                                                    class_mode = 'categorical')"
      ]
    },
    {
      "cell_type": "code",
      "execution_count": 9,
      "metadata": {
        "id": "LVFbpA5bh40S",
        "colab": {
          "base_uri": "https://localhost:8080/"
        },
        "outputId": "235082b3-76f2-4408-9d54-2f91e490e01b"
      },
      "outputs": [
        {
          "output_type": "stream",
          "name": "stdout",
          "text": [
            "Downloading data from https://storage.googleapis.com/tensorflow/keras-applications/vgg16/vgg16_weights_tf_dim_ordering_tf_kernels_notop.h5\n",
            "58889256/58889256 [==============================] - 4s 0us/step\n"
          ]
        }
      ],
      "source": [
        "# carregar a arquitetura VGG16 pré-treinada\n",
        "base_model = VGG16(weights='imagenet', include_top=False, input_shape=(*target_size, 3))"
      ]
    },
    {
      "cell_type": "code",
      "execution_count": 10,
      "metadata": {
        "id": "CPdjhWFQjzfP"
      },
      "outputs": [],
      "source": [
        "# adicionar camadas adicionais ao modelo\n",
        "x = base_model.output\n",
        "x = Flatten()(x)\n",
        "x = Dropout(0.5)(x) # aumentando o dropout para evitar overfitting\n",
        "predictions = Dense(n_classes, activation='softmax')(x)"
      ]
    },
    {
      "cell_type": "code",
      "execution_count": 11,
      "metadata": {
        "id": "sPuuTzGllGqT"
      },
      "outputs": [],
      "source": [
        "# criar modelo final\n",
        "model = Model(inputs=base_model.input, outputs=predictions)\n",
        "\n",
        "# congelar as camadas da base\n",
        "for layer in base_model.layers:\n",
        "    layer.trainable = False"
      ]
    },
    {
      "cell_type": "code",
      "execution_count": 12,
      "metadata": {
        "id": "8YSVJbe1le6T"
      },
      "outputs": [],
      "source": [
        "# compilar o modelo\n",
        "model.compile(optimizer=Adam(learning_rate=1e-4), loss='categorical_crossentropy', metrics=['acc'])"
      ]
    },
    {
      "cell_type": "code",
      "execution_count": null,
      "metadata": {
        "id": "29wwz44yiWSa",
        "colab": {
          "base_uri": "https://localhost:8080/"
        },
        "outputId": "db90dc9f-c41f-4571-d35e-96812ed5e1ca"
      },
      "outputs": [
        {
          "output_type": "stream",
          "name": "stdout",
          "text": [
            "Epoch 1/10\n",
            " 3/67 [>.............................] - ETA: 39:52 - loss: 2.2732 - acc: 0.1927"
          ]
        }
      ],
      "source": [
        "# Treinar o modelo\n",
        "history = model.fit(\n",
        "    train_dataset,\n",
        "    steps_per_epoch=len(train_dataset),\n",
        "    epochs=10,\n",
        "    validation_data=validation_dataset,\n",
        "    validation_steps=len(validation_dataset))"
      ]
    }
  ],
  "metadata": {
    "colab": {
      "provenance": [],
      "authorship_tag": "ABX9TyNj+qs8rFmqF4iD50xNLtnK",
      "include_colab_link": true
    },
    "kernelspec": {
      "display_name": "Python 3",
      "name": "python3"
    },
    "language_info": {
      "name": "python"
    },
    "gpuClass": "standard",
    "accelerator": "GPU"
  },
  "nbformat": 4,
  "nbformat_minor": 0
}